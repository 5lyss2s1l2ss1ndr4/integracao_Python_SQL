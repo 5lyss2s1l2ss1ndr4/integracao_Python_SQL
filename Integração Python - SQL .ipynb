{
 "cells": [
  {
   "cell_type": "code",
   "execution_count": 1,
   "id": "afd95ad4",
   "metadata": {},
   "outputs": [
    {
     "name": "stdout",
     "output_type": "stream",
     "text": [
      "['SQL Server', 'SQL Server Native Client 11.0', 'SQL Server Native Client RDA 11.0', 'ODBC Driver 17 for SQL Server', 'Microsoft Access Driver (*.mdb, *.accdb)', 'Microsoft Excel Driver (*.xls, *.xlsx, *.xlsm, *.xlsb)', 'Microsoft Access Text Driver (*.txt, *.csv)', 'SQLite3 ODBC Driver', 'SQLite ODBC Driver', 'SQLite ODBC (UTF-8) Driver']\n"
     ]
    }
   ],
   "source": [
    "import pyodbc\n",
    "print(pyodbc.drivers())"
   ]
  },
  {
   "cell_type": "code",
   "execution_count": 2,
   "id": "8263bf57",
   "metadata": {},
   "outputs": [
    {
     "name": "stdout",
     "output_type": "stream",
     "text": [
      "Conexão bem sucedida\n"
     ]
    }
   ],
   "source": [
    "informacao_conexao = (\"Driver={SQLite3 ODBC Driver};Server=localhost;Database=salarios.sqlite\") # SEM ESPAÇO\n",
    "           \n",
    "conexao = pyodbc.connect(informacao_conexao)\n",
    "print(\"Conexão bem sucedida\")"
   ]
  },
  {
   "cell_type": "code",
   "execution_count": 3,
   "id": "3a5c60a2",
   "metadata": {},
   "outputs": [],
   "source": [
    "cursor = conexao.cursor()"
   ]
  },
  {
   "cell_type": "code",
   "execution_count": 4,
   "id": "d0b4d5af",
   "metadata": {},
   "outputs": [
    {
     "name": "stdout",
     "output_type": "stream",
     "text": [
      "[(1, 'NATHANIEL FORD', 'GENERAL MANAGER-METROPOLITAN TRANSIT AUTHORITY', 167411.18, 0.0, 400184.25, None, 567595.43, 567595.43, 2011, '', 'San Francisco', ''), (2, 'GARY JIMENEZ', 'CAPTAIN III (POLICE DEPARTMENT)', 155966.02, 245131.88, 137811.38, None, 538909.28, 538909.28, 2011, '', 'San Francisco', ''), (3, 'ALBERT PARDINI', 'CAPTAIN III (POLICE DEPARTMENT)', 212739.13, 106088.18, 16452.6, None, 335279.91, 335279.91, 2011, '', 'San Francisco', ''), (4, 'CHRISTOPHER CHONG', 'WIRE ROPE CABLE MAINTENANCE MECHANIC', 77916.0, 56120.71, 198306.9, None, 332343.61, 332343.61, 2011, '', 'San Francisco', ''), (5, 'PATRICK GARDNER', 'DEPUTY CHIEF OF DEPARTMENT,(FIRE DEPARTMENT)', 134401.6, 9737.0, 182234.59, None, 326373.19, 326373.19, 2011, '', 'San Francisco', ''), (6, 'DAVID SULLIVAN', 'ASSISTANT DEPUTY CHIEF II', 118602.0, 8601.0, 189082.74, None, 316285.74, 316285.74, 2011, '', 'San Francisco', ''), (7, 'ALSON LEE', 'BATTALION CHIEF, (FIRE DEPARTMENT)', 92492.01, 89062.9, 134426.14, None, 315981.05, 315981.05, 2011, '', 'San Francisco', ''), (8, 'DAVID KUSHNER', 'DEPUTY DIRECTOR OF INVESTMENTS', 256576.96, 0.0, 51322.5, None, 307899.46, 307899.46, 2011, '', 'San Francisco', ''), (9, 'MICHAEL MORRIS', 'BATTALION CHIEF, (FIRE DEPARTMENT)', 176932.64, 86362.68, 40132.23, None, 303427.55, 303427.55, 2011, '', 'San Francisco', ''), (10, 'JOANNE HAYES-WHITE', 'CHIEF OF DEPARTMENT, (FIRE DEPARTMENT)', 285262.0, 0.0, 17115.73, None, 302377.73, 302377.73, 2011, '', 'San Francisco', ''), (11, 'ARTHUR KENNEY', 'ASSISTANT CHIEF OF DEPARTMENT, (FIRE DEPARTMENT)', 194999.39, 71344.88, 33149.9, None, 299494.17, 299494.17, 2011, '', 'San Francisco', ''), (12, 'PATRICIA JACKSON', 'CAPTAIN III (POLICE DEPARTMENT)', 99722.0, 87082.62, 110804.3, None, 297608.92, 297608.92, 2011, '', 'San Francisco', ''), (13, 'EDWARD HARRINGTON', 'EXECUTIVE CONTRACT EMPLOYEE', 294580.02, 0.0, 0.0, None, 294580.02, 294580.02, 2011, '', 'San Francisco', ''), (14, 'JOHN MARTIN', 'DEPARTMENT HEAD V', 271329.03, 0.0, 21342.59, None, 292671.62, 292671.62, 2011, '', 'San Francisco', ''), (15, 'DAVID FRANKLIN', 'BATTALION CHIEF, (FIRE DEPARTMENT)', 174872.64, 74050.3, 37424.11, None, 286347.05, 286347.05, 2011, '', 'San Francisco', '')]\n"
     ]
    }
   ],
   "source": [
    "cursor.execute(\"SELECT * FROM Salaries\")\n",
    "valores = cursor.fetchall()\n",
    "print(valores[:15])"
   ]
  },
  {
   "cell_type": "code",
   "execution_count": 5,
   "id": "d01c2c46",
   "metadata": {},
   "outputs": [],
   "source": [
    "cursor.close()\n",
    "conexao.close()"
   ]
  }
 ],
 "metadata": {
  "kernelspec": {
   "display_name": "Python 3 (ipykernel)",
   "language": "python",
   "name": "python3"
  },
  "language_info": {
   "codemirror_mode": {
    "name": "ipython",
    "version": 3
   },
   "file_extension": ".py",
   "mimetype": "text/x-python",
   "name": "python",
   "nbconvert_exporter": "python",
   "pygments_lexer": "ipython3",
   "version": "3.9.13"
  }
 },
 "nbformat": 4,
 "nbformat_minor": 5
}
